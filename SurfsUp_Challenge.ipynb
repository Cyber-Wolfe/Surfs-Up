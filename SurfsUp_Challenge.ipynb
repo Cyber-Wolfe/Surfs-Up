{
 "cells": [
  {
   "cell_type": "code",
   "execution_count": 1,
   "metadata": {},
   "outputs": [],
   "source": [
    "# Dependencies\n",
    "import numpy as np\n",
    "import datetime as dt\n",
    "import numpy as np\n",
    "import pandas as pd\n",
    "\n",
    "# Python SQL toolkit and Object Relational Mapper\n",
    "import sqlalchemy\n",
    "from sqlalchemy.ext.automap import automap_base\n",
    "from sqlalchemy.orm import Session\n",
    "from sqlalchemy import create_engine, func\n",
    "from sqlalchemy import extract"
   ]
  },
  {
   "cell_type": "code",
   "execution_count": 2,
   "metadata": {},
   "outputs": [],
   "source": [
    "engine = create_engine(\"sqlite:///hawaii.sqlite\")\n",
    "\n",
    "# reflect an existing database into a new model\n",
    "Base = automap_base()\n",
    "\n",
    "# reflect the tables\n",
    "Base.prepare(engine, reflect=True)\n",
    "\n",
    "# Save references to each table\n",
    "Measurement = Base.classes.measurement\n",
    "Station = Base.classes.station"
   ]
  },
  {
   "cell_type": "code",
   "execution_count": 3,
   "metadata": {},
   "outputs": [],
   "source": [
    "# Create our session (link) from Python to the DB\n",
    "session = Session(engine)"
   ]
  },
  {
   "cell_type": "markdown",
   "metadata": {},
   "source": [
    "## D1: Determine the Summary Statistics for June"
   ]
  },
  {
   "cell_type": "code",
   "execution_count": 8,
   "metadata": {},
   "outputs": [],
   "source": [
    "july_1_2011 = dt.date(2011, 7, 1)\n",
    "july_1_2012 = dt.date(2012, 7, 1)\n",
    "july_1_2013 = dt.date(2013, 7, 1)\n",
    "july_1_2014 = dt.date(2014, 7, 1)\n",
    "july_1_2015 = dt.date(2015, 7, 1)\n",
    "july_1_2016 = dt.date(2016, 7, 1)\n",
    "july_1_2017 = dt.date(2017, 7, 1)\n",
    "\n",
    "june_1_2010 = dt.date(2010, 6, 1)\n",
    "june_1_2011 = dt.date(2011, 6, 1)\n",
    "june_1_2012 = dt.date(2012, 6, 1)\n",
    "june_1_2012 = dt.date(2012, 6, 1)\n",
    "june_1_2013 = dt.date(2013, 6, 1)\n",
    "june_1_2014 = dt.date(2014, 6, 1)\n",
    "june_1_2015 = dt.date(2015, 6, 1)\n",
    "june_1_2016 = dt.date(2016, 6, 1)\n",
    "june_1_2017 = dt.date(2017, 6, 1)\n",
    "\n",
    "results = []\n",
    "results = session.query(Measurement.date, Measurement.tobs).\\\n",
    "filter((Measurement.date >= june_1_2010) & (Measurement.date < july_1_2010)|\n",
    "       (Measurement.date >= june_1_2011) & (Measurement.date < july_1_2011)|\n",
    "       (Measurement.date >= june_1_2012) & (Measurement.date < july_1_2012)|\n",
    "       (Measurement.date >= june_1_2013) & (Measurement.date < july_1_2013)|\n",
    "       (Measurement.date >= june_1_2014) & (Measurement.date < july_1_2014)|\n",
    "       (Measurement.date >= june_1_2015) & (Measurement.date < july_1_2015)|\n",
    "       (Measurement.date >= june_1_2016 ) & (Measurement.date < july_1_2016)|\n",
    "       (Measurement.date >= june_1_2017 ) & (Measurement.date < july_1_2017)).all()"
   ]
  },
  {
   "cell_type": "code",
   "execution_count": 9,
   "metadata": {},
   "outputs": [],
   "source": [
    "june_temps = list(results)"
   ]
  },
  {
   "cell_type": "code",
   "execution_count": 10,
   "metadata": {},
   "outputs": [],
   "source": [
    "june_temps_df = pd.DataFrame(results, columns=['date', 'June Temps'])\n",
    "june_temps_df = june_temps_df.set_index(june_temps_df['date'], inplace = False)"
   ]
  },
  {
   "cell_type": "code",
   "execution_count": 13,
   "metadata": {},
   "outputs": [
    {
     "data": {
      "text/html": [
       "<div>\n",
       "<style scoped>\n",
       "    .dataframe tbody tr th:only-of-type {\n",
       "        vertical-align: middle;\n",
       "    }\n",
       "\n",
       "    .dataframe tbody tr th {\n",
       "        vertical-align: top;\n",
       "    }\n",
       "\n",
       "    .dataframe thead th {\n",
       "        text-align: right;\n",
       "    }\n",
       "</style>\n",
       "<table border=\"1\" class=\"dataframe\">\n",
       "  <thead>\n",
       "    <tr style=\"text-align: right;\">\n",
       "      <th></th>\n",
       "      <th>June Temps</th>\n",
       "    </tr>\n",
       "  </thead>\n",
       "  <tbody>\n",
       "    <tr>\n",
       "      <th>count</th>\n",
       "      <td>1700.000000</td>\n",
       "    </tr>\n",
       "    <tr>\n",
       "      <th>mean</th>\n",
       "      <td>74.944118</td>\n",
       "    </tr>\n",
       "    <tr>\n",
       "      <th>std</th>\n",
       "      <td>3.257417</td>\n",
       "    </tr>\n",
       "    <tr>\n",
       "      <th>min</th>\n",
       "      <td>64.000000</td>\n",
       "    </tr>\n",
       "    <tr>\n",
       "      <th>25%</th>\n",
       "      <td>73.000000</td>\n",
       "    </tr>\n",
       "    <tr>\n",
       "      <th>50%</th>\n",
       "      <td>75.000000</td>\n",
       "    </tr>\n",
       "    <tr>\n",
       "      <th>75%</th>\n",
       "      <td>77.000000</td>\n",
       "    </tr>\n",
       "    <tr>\n",
       "      <th>max</th>\n",
       "      <td>85.000000</td>\n",
       "    </tr>\n",
       "  </tbody>\n",
       "</table>\n",
       "</div>"
      ],
      "text/plain": [
       "        June Temps\n",
       "count  1700.000000\n",
       "mean     74.944118\n",
       "std       3.257417\n",
       "min      64.000000\n",
       "25%      73.000000\n",
       "50%      75.000000\n",
       "75%      77.000000\n",
       "max      85.000000"
      ]
     },
     "execution_count": 13,
     "metadata": {},
     "output_type": "execute_result"
    }
   ],
   "source": [
    "june_temps_df.describe()"
   ]
  },
  {
   "cell_type": "markdown",
   "metadata": {},
   "source": [
    "## D2: Determine the Summary Statistics for December"
   ]
  },
  {
   "cell_type": "code",
   "execution_count": 14,
   "metadata": {},
   "outputs": [],
   "source": [
    "dec_1_2010 = dt.date(2010, 12, 1)\n",
    "dec_1_2011 = dt.date(2011, 12, 1)\n",
    "dec_1_2012 = dt.date(2012, 12, 1)\n",
    "dec_1_2013 = dt.date(2013, 12, 1)\n",
    "dec_1_2014 = dt.date(2014, 12, 1)\n",
    "dec_1_2015 = dt.date(2015, 12, 1)\n",
    "dec_1_2016 = dt.date(2016, 12, 1)\n",
    "dec_1_2017 = dt.date(2017, 12, 1)\n",
    "\n",
    "jan_1_2011 = dt.date(2011, 1, 1)\n",
    "jan_1_2012 = dt.date(2012, 1, 1)\n",
    "jan_1_2013 = dt.date(2013, 1, 1)\n",
    "jan_1_2014 = dt.date(2014, 1, 1)\n",
    "jan_1_2015 = dt.date(2015, 1, 1)\n",
    "jan_1_2016 = dt.date(2016, 1, 1)\n",
    "jan_1_2017 = dt.date(2017, 1, 1)\n",
    "\n",
    "results = []\n",
    "results = session.query(Measurement.date, Measurement.tobs).\\\n",
    "filter((Measurement.date >= dec_1_2010 ) & (Measurement.date < jan_1_2011)|\n",
    "       (Measurement.date >= dec_1_2011) & (Measurement.date < jan_1_2012)|\n",
    "       (Measurement.date >= dec_1_2012) & (Measurement.date < jan_1_2013)|\n",
    "       (Measurement.date >= dec_1_2013) & (Measurement.date < jan_1_2014)|\n",
    "       (Measurement.date >= dec_1_2014) & (Measurement.date < jan_1_2015)|\n",
    "       (Measurement.date >= dec_1_2015) & (Measurement.date < jan_1_2016)|\n",
    "       (Measurement.date >= dec_1_2016) & (Measurement.date < jan_1_2017)|\n",
    "       (Measurement.date >= dec_1_2017 )).all()"
   ]
  },
  {
   "cell_type": "code",
   "execution_count": 15,
   "metadata": {},
   "outputs": [],
   "source": [
    "dec_temps = list(results)"
   ]
  },
  {
   "cell_type": "code",
   "execution_count": 16,
   "metadata": {},
   "outputs": [],
   "source": [
    "dec_temps_df = pd.DataFrame(results, columns=['date', 'December Temps'])\n",
    "dec_temps_df = dec_temps_df.set_index(dec_temps_df['date'], inplace = False)"
   ]
  },
  {
   "cell_type": "code",
   "execution_count": 18,
   "metadata": {},
   "outputs": [
    {
     "data": {
      "text/html": [
       "<div>\n",
       "<style scoped>\n",
       "    .dataframe tbody tr th:only-of-type {\n",
       "        vertical-align: middle;\n",
       "    }\n",
       "\n",
       "    .dataframe tbody tr th {\n",
       "        vertical-align: top;\n",
       "    }\n",
       "\n",
       "    .dataframe thead th {\n",
       "        text-align: right;\n",
       "    }\n",
       "</style>\n",
       "<table border=\"1\" class=\"dataframe\">\n",
       "  <thead>\n",
       "    <tr style=\"text-align: right;\">\n",
       "      <th></th>\n",
       "      <th>December Temps</th>\n",
       "    </tr>\n",
       "  </thead>\n",
       "  <tbody>\n",
       "    <tr>\n",
       "      <th>count</th>\n",
       "      <td>1517.000000</td>\n",
       "    </tr>\n",
       "    <tr>\n",
       "      <th>mean</th>\n",
       "      <td>71.041529</td>\n",
       "    </tr>\n",
       "    <tr>\n",
       "      <th>std</th>\n",
       "      <td>3.745920</td>\n",
       "    </tr>\n",
       "    <tr>\n",
       "      <th>min</th>\n",
       "      <td>56.000000</td>\n",
       "    </tr>\n",
       "    <tr>\n",
       "      <th>25%</th>\n",
       "      <td>69.000000</td>\n",
       "    </tr>\n",
       "    <tr>\n",
       "      <th>50%</th>\n",
       "      <td>71.000000</td>\n",
       "    </tr>\n",
       "    <tr>\n",
       "      <th>75%</th>\n",
       "      <td>74.000000</td>\n",
       "    </tr>\n",
       "    <tr>\n",
       "      <th>max</th>\n",
       "      <td>83.000000</td>\n",
       "    </tr>\n",
       "  </tbody>\n",
       "</table>\n",
       "</div>"
      ],
      "text/plain": [
       "       December Temps\n",
       "count     1517.000000\n",
       "mean        71.041529\n",
       "std          3.745920\n",
       "min         56.000000\n",
       "25%         69.000000\n",
       "50%         71.000000\n",
       "75%         74.000000\n",
       "max         83.000000"
      ]
     },
     "execution_count": 18,
     "metadata": {},
     "output_type": "execute_result"
    }
   ],
   "source": [
    "dec_temps_df.describe()"
   ]
  },
  {
   "cell_type": "code",
   "execution_count": null,
   "metadata": {},
   "outputs": [],
   "source": []
  }
 ],
 "metadata": {
  "kernelspec": {
   "display_name": "Python 3 (ipykernel)",
   "language": "python",
   "name": "python3"
  },
  "language_info": {
   "codemirror_mode": {
    "name": "ipython",
    "version": 3
   },
   "file_extension": ".py",
   "mimetype": "text/x-python",
   "name": "python",
   "nbconvert_exporter": "python",
   "pygments_lexer": "ipython3",
   "version": "3.9.7"
  }
 },
 "nbformat": 4,
 "nbformat_minor": 2
}
